{
 "cells": [
  {
   "cell_type": "markdown",
   "id": "780c506f",
   "metadata": {},
   "source": [
    "# 13. 함수적용\n",
    "---\n",
    "- pandas에서 데이터 변형을 수행할 때, apply()함수는 강력한 도구이다.\n",
    "- 이함수를 사용하면 DataFrame 또는 Series의 각 요소에 대해 원하는 연산을 수행 할 수 있다."
   ]
  },
  {
   "cell_type": "code",
   "execution_count": null,
   "id": "c85721e8",
   "metadata": {},
   "outputs": [],
   "source": [
    "import pandas as pd\n",
    "df = pd.read_csv('data/customers3.csv', index_col='고객ID')\n",
    "df"
   ]
  },
  {
   "cell_type": "markdown",
   "id": "d6db5dfb",
   "metadata": {},
   "source": [
    "**데이터에 함수 적용 `apply()`**\n",
    "- DataFrame이나 Series의 각 요소에 함수를 적용할 때 사용된다.\n",
    "- 특히 열(Column) 단위나 행(row) 단위로 복잡한 연산을 적용할 때 유용하다."
   ]
  },
  {
   "cell_type": "code",
   "execution_count": null,
   "id": "bf9a0ef0",
   "metadata": {},
   "outputs": [],
   "source": [
    "# 첫번쨰 문자가 대문자인지 아닌지 -> 대문자가 아니면 대문자로 변환\n",
    "def capitalize(interest):\n",
    "    #notnull() : NaN 인지 아닌지 NaN이면 False \n",
    "    if pd.notnull(interest):\n",
    "         #interest가 NaN이 아닌경우\n",
    "         return interest.capitalize() #문자열 첫글자만 대문자로 바꿔주는 함수\n",
    "    return interest"
   ]
  },
  {
   "cell_type": "code",
   "execution_count": null,
   "id": "3f742baa",
   "metadata": {},
   "outputs": [],
   "source": [
    "df['주요관심사'] = df['주요관심사'].apply(capitalize)\n",
    "df"
   ]
  },
  {
   "cell_type": "markdown",
   "id": "a6759972",
   "metadata": {},
   "source": [
    "**`merge()`**\n",
    "- SQL의 JOIN과 유사하게 두개의 DataFrame을 특정 열을 기준으로 결합한다."
   ]
  },
  {
   "cell_type": "code",
   "execution_count": null,
   "id": "ddda34bf",
   "metadata": {},
   "outputs": [],
   "source": [
    "df1 = pd.DataFrame(\n",
    "    { \n",
    "        'CustiomerID' : [1,2,3]\n",
    "        'Product' : ['Laptop', 'Mouse', 'Keyboard']\n",
    "    }\n",
    ")\n",
    "df2 = pd.DataFrame(\n",
    "    { \n",
    "        'CustomerID' : [2,3,4],\n",
    "        'Locaion' : ['USA','Canada','Korea']\n",
    "    }\n",
    ")\n",
    "df2"
   ]
  },
  {
   "cell_type": "code",
   "execution_count": null,
   "id": "ca42c274",
   "metadata": {},
   "outputs": [],
   "source": [
    "df_merge = pd.merge(df1,df2, on='CustomerID')\n",
    "df_merge"
   ]
  },
  {
   "cell_type": "code",
   "execution_count": null,
   "id": "073cf3ed",
   "metadata": {},
   "outputs": [],
   "source": []
  },
  {
   "cell_type": "markdown",
   "id": "2ca2e466",
   "metadata": {},
   "source": [
    "**`concat()`**\n",
    "- DataFrame을 위아래또는 좌, 우로 결합할때 사용한다.\n",
    "- 행을 추가할때는 `axis=0`, 열을추가할땐는 `axis=1`을 사용한다."
   ]
  },
  {
   "cell_type": "code",
   "execution_count": null,
   "id": "590112c0",
   "metadata": {},
   "outputs": [],
   "source": [
    "df1 = pd.DataFrame(\n",
    "    {\n",
    "        'A':['A2','A3'],\n",
    "        'B':['B2','B3'],\n",
    "    }\n",
    ")"
   ]
  },
  {
   "cell_type": "code",
   "execution_count": null,
   "id": "c7f4f78d",
   "metadata": {},
   "outputs": [],
   "source": [
    "df_concat = pd.concat([df1,df2],axis=0) #axis=0"
   ]
  },
  {
   "cell_type": "code",
   "execution_count": null,
   "id": "01c05b27",
   "metadata": {},
   "outputs": [],
   "source": []
  },
  {
   "cell_type": "code",
   "execution_count": null,
   "id": "56ca0d09",
   "metadata": {},
   "outputs": [],
   "source": []
  },
  {
   "cell_type": "markdown",
   "id": "f81afc0a",
   "metadata": {},
   "source": [
    "**`join()`**\n",
    "- 두개의 DataFrame을 인덱스를 기준으로 결합 할 때 사용한다."
   ]
  },
  {
   "cell_type": "code",
   "execution_count": null,
   "id": "284c2a2b",
   "metadata": {},
   "outputs": [],
   "source": [
    "df_join = df1.join(df2)\n",
    "\n",
    "df_jin"
   ]
  }
 ],
 "metadata": {
  "kernelspec": {
   "display_name": "HDWIA",
   "language": "python",
   "name": "python3"
  },
  "language_info": {
   "codemirror_mode": {
    "name": "ipython",
    "version": 3
   },
   "file_extension": ".py",
   "mimetype": "text/x-python",
   "name": "python",
   "nbconvert_exporter": "python",
   "pygments_lexer": "ipython3",
   "version": "3.12.12"
  }
 },
 "nbformat": 4,
 "nbformat_minor": 5
}
