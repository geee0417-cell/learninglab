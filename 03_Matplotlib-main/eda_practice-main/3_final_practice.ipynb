{
 "cells": [
  {
   "cell_type": "markdown",
   "metadata": {},
   "source": [
    "### 최종 실습 프로젝트\n",
    "- ecommerce_sales_data.csv 파일 활용"
   ]
  },
  {
   "cell_type": "markdown",
   "metadata": {},
   "source": [
    "당신은 한 온라인 쇼핑몰의 데이터 분석가로 고용되었다. 쇼핑몰의 판매 데이터를 분석하여 고객의 구매 패턴을 파악하고, 중요한 인사이트를 도출하는 것이 이번 프로젝트의 목표다. 이를 통해 향후 마케팅 전략을 제시하고자 한다. ecommerce_sales_data.csv 파일을 통해 주어진 데이터는 고객의 주문 기록, 상품 정보, 판매 데이터 등을 포함하고 있다. 주어진 데이터를 분석하여 아래의 질문에 답하라."
   ]
  },
  {
   "cell_type": "markdown",
   "metadata": {},
   "source": [
    "- **데이터 설명**:\n",
    "    - **OrderID**: 주문 ID\n",
    "    - **Product**: 주문한 상품 이름\n",
    "    - **Category**: 상품의 카테고리 (예: Electronics, Clothing 등)\n",
    "    - **Quantity**: 주문 수량\n",
    "    - **Price**: 상품의 가격\n",
    "    - **CustomerID**: 고객 ID\n",
    "    - **BirthDate**: 고객 생일\n",
    "    - **OrderDate**: 주문 날짜\n",
    "    - **Country**: 주문한 고객의 국가\n",
    "    - **DiscountRate**: 할인율"
   ]
  },
  {
   "cell_type": "markdown",
   "metadata": {},
   "source": [
    "1. **데이터 탐색 및 전처리**\n",
    "    1. 데이터셋을 로드하고 상위 5개의 데이터를 출력하세요.\n",
    "    2. 결측값이 있는 열이 있는지 확인하고, 결측값이 있는 경우 적절한 방법으로 처리하세요.\n",
    "    3. 각 열의 데이터 타입을 확인하고, **OrderDate** 열을 datetime 형식으로 변환하세요."
   ]
  },
  {
   "cell_type": "code",
   "execution_count": 10,
   "metadata": {},
   "outputs": [
    {
     "name": "stdout",
     "output_type": "stream",
     "text": [
      "상위 5개 데이터:\n",
      "        Product     Category  Quantity  Price  CustomerID   Birthdate  \\\n",
      "OrderID                                                                 \n",
      "1           역사책        Books         5  37000        1071  1980-08-08   \n",
      "2            셔츠     Clothing         5  20000        1526  1967-08-09   \n",
      "3           노트북  Electronics         4   8000        1252  1973-04-07   \n",
      "4           자전거       Sports         1   8000        1670  1970-04-08   \n",
      "5           헤드폰  Electronics         3  26000        1838  1992-05-19   \n",
      "\n",
      "                OrderDate Country  DiscountRate  \n",
      "OrderID                                          \n",
      "1        2024-06-10 17:18      미국          0.14  \n",
      "2        2023-11-18 18:45      독일          0.29  \n",
      "3        2023-10-15 11:19      중국          0.23  \n",
      "4         2024-07-19 2:19      일본          0.20  \n",
      "5        2024-01-20 20:34    대한민국          0.09  \n",
      "\n",
      "각 열별 결측값 개수:\n",
      "Product         0\n",
      "Category        0\n",
      "Quantity        0\n",
      "Price           0\n",
      "CustomerID      0\n",
      "Birthdate       0\n",
      "OrderDate       0\n",
      "Country         0\n",
      "DiscountRate    1\n",
      "dtype: int64\n",
      "\n",
      "결측값 처리 후 검증:\n",
      "Product         0\n",
      "Category        0\n",
      "Quantity        0\n",
      "Price           0\n",
      "CustomerID      0\n",
      "Birthdate       0\n",
      "OrderDate       0\n",
      "Country         0\n",
      "DiscountRate    0\n",
      "dtype: int64\n",
      "\n",
      "열별 데이터 타입(변환 전):\n",
      "Product          object\n",
      "Category         object\n",
      "Quantity          int64\n",
      "Price             int64\n",
      "CustomerID        int64\n",
      "Birthdate        object\n",
      "OrderDate        object\n",
      "Country          object\n",
      "DiscountRate    float64\n",
      "dtype: object\n",
      "\n",
      "열별 데이터 타입(변환 후):\n",
      "Product                 object\n",
      "Category                object\n",
      "Quantity                 int64\n",
      "Price                    int64\n",
      "CustomerID               int64\n",
      "Birthdate               object\n",
      "OrderDate       datetime64[ns]\n",
      "Country                 object\n",
      "DiscountRate           float64\n",
      "dtype: object\n",
      "\n"
     ]
    },
    {
     "name": "stderr",
     "output_type": "stream",
     "text": [
      "C:\\Users\\75050\\AppData\\Local\\Temp\\ipykernel_14824\\368581834.py:22: FutureWarning: A value is trying to be set on a copy of a DataFrame or Series through chained assignment using an inplace method.\n",
      "The behavior will change in pandas 3.0. This inplace method will never work because the intermediate object on which we are setting values always behaves as a copy.\n",
      "\n",
      "For example, when doing 'df[col].method(value, inplace=True)', try using 'df.method({col: value}, inplace=True)' or df[col] = df[col].method(value) instead, to perform the operation inplace on the original object.\n",
      "\n",
      "\n",
      "  df[col].fillna(df[col].mean(), inplace=True)\n"
     ]
    }
   ],
   "source": [
    "import pandas as pd\n",
    "\n",
    "df = pd.read_csv('data/ecommerce_sales_data.csv')\n",
    "df.set_index('OrderID', inplace=True)\n",
    "\n",
    "# 데이터 로드(인덱스: OrderID)\n",
    "df = pd.read_csv('data/ecommerce_sales_data.csv', index_col='OrderID')\n",
    "\n",
    "# 1. 상위 5개 행 출력\n",
    "print(\"상위 5개 데이터:\")\n",
    "print(df.head())\n",
    "print()\n",
    "\n",
    "# 2. 결측값 확인 및 처리\n",
    "print(\"각 열별 결측값 개수:\")\n",
    "print(df.isnull().sum())\n",
    "print()\n",
    "\n",
    "missing_cols = df.columns[df.isnull().any()]\n",
    "for col in missing_cols:\n",
    "    if df[col].dtype in ['float64', 'int64']:\n",
    "        df[col].fillna(df[col].mean(), inplace=True)\n",
    "    else:\n",
    "        df[col].fillna('Unknown', inplace=True)\n",
    "\n",
    "print(\"결측값 처리 후 검증:\")\n",
    "print(df.isnull().sum())\n",
    "print()\n",
    "\n",
    "# 3. 데이터 타입 확인 + OrderDate 변환\n",
    "print(\"열별 데이터 타입(변환 전):\")\n",
    "print(df.dtypes)\n",
    "print()\n",
    "\n",
    "df['OrderDate'] = pd.to_datetime(df['OrderDate'])\n",
    "print(\"열별 데이터 타입(변환 후):\")\n",
    "print(df.dtypes)\n",
    "print()\n",
    "\n",
    "\n"
   ]
  },
  {
   "cell_type": "markdown",
   "metadata": {},
   "source": [
    "2. **매출 분석**\n",
    "    1. **매출액**(총 판매 금액)을 계산하는 새로운 열 `TotalRevenue`를 생성하세요.\n",
    "        - 매출액 = `Quantity` * `Price`\n",
    "    2. 월별 총 매출액을 집계하여 시각화하세요.\n",
    "        - 힌트: `resample()`을 사용하여 월별로 데이터를 집계하세요.\n",
    "    3. 카테고리별로 매출액이 가장 높은 상위 3개의 카테고리를 구하세요.\n",
    "    4. 국가별 총 매출액을 계산하고, 매출액이 가장 높은 5개 국가를 출력하세요."
   ]
  },
  {
   "cell_type": "code",
   "execution_count": 14,
   "metadata": {},
   "outputs": [
    {
     "name": "stderr",
     "output_type": "stream",
     "text": [
      "C:\\Users\\75050\\AppData\\Local\\Temp\\ipykernel_14824\\3784124411.py:7: FutureWarning: 'M' is deprecated and will be removed in a future version, please use 'ME' instead.\n",
      "  monthly_revenue = df.resample('M', on='OrderDate')['TotalRevenue'].sum()\n"
     ]
    },
    {
     "data": {
      "image/png": "[encoded data removed]",
      "text/plain": [
       "<Figure size 1200x600 with 1 Axes>"
      ]
     },
     "metadata": {},
     "output_type": "display_data"
    },
    {
     "name": "stdout",
     "output_type": "stream",
     "text": [
      "카테고리별 매출액 Top 3:\n",
      "Category\n",
      "Food           1966000\n",
      "Electronics    1746000\n",
      "Beauty         1493000\n",
      "Name: TotalRevenue, dtype: int64\n",
      "국가별 매출액 Top 5:\n",
      "Country\n",
      "미국      2238000\n",
      "독일      1973000\n",
      "중국      1766000\n",
      "일본      1523000\n",
      "대한민국    1419000\n",
      "Name: TotalRevenue, dtype: int64\n"
     ]
    }
   ],
   "source": [
    "# 1. 매출액 컬럼 생성\n",
    "import matplotlib.pyplot as plt\n",
    "\n",
    "df['TotalRevenue'] = df['Quantity'] * df['Price']\n",
    "\n",
    "# 2. 월별 매출액 시각화\n",
    "monthly_revenue = df.resample('M', on='OrderDate')['TotalRevenue'].sum()\n",
    "plt.figure(figsize=(12,6))\n",
    "plt.plot(monthly_revenue.index, monthly_revenue.values, marker='o')\n",
    "plt.title('Monthly Total Revenue')\n",
    "plt.xlabel('Month')\n",
    "plt.ylabel('Total Revenue')\n",
    "plt.grid(True)\n",
    "plt.show()\n",
    "\n",
    "# 3. 카테고리 Top3\n",
    "top3_categories = df.groupby('Category')['TotalRevenue'].sum().sort_values(ascending=False).head(3)\n",
    "print(\"카테고리별 매출액 Top 3:\")\n",
    "print(top3_categories)\n",
    "\n",
    "# 4. 국가별 Top5\n",
    "top5_countries = df.groupby('Country')['TotalRevenue'].sum().sort_values(ascending=False).head(5)\n",
    "print(\"국가별 매출액 Top 5:\")\n",
    "print(top5_countries)\n"
   ]
  },
  {
   "cell_type": "markdown",
   "metadata": {},
   "source": [
    "3. **고객 분석**\n",
    "    1. 고객별로 총 매출액을 계산한 후, 상위 5명의 고객을 출력하세요.\n",
    "    2. 주문 횟수가 가장 많은 상위 5명의 고객을 출력하세요.\n",
    "    3. **연령대**에 따라 고객을 분류하고, 각 연령대별로 가장 많이 구매한 상품의 카테고리를 구하세요.\n",
    "        - 힌트: 고객의 연령대는 따로 제공되지 않으므로, 가정 데이터를 추가해 임의로 분류할 수 있습니다."
   ]
  },
  {
   "cell_type": "code",
   "execution_count": null,
   "metadata": {},
   "outputs": [],
   "source": []
  },
  {
   "cell_type": "markdown",
   "metadata": {},
   "source": [
    "4. **상품 분석**\n",
    "    1. 가장 많이 판매된 상위 5개의 상품을 출력하세요.\n",
    "    2. **카테고리별**로 가장 많이 판매된 상품을 찾아 출력하세요.\n",
    "    3. **평균 구매 수량**이 가장 높은 상위 3개의 상품을 출력하세요."
   ]
  },
  {
   "cell_type": "code",
   "execution_count": null,
   "metadata": {},
   "outputs": [],
   "source": []
  },
  {
   "cell_type": "markdown",
   "metadata": {},
   "source": [
    "5. **시간 분석**\n",
    "    1. 주문 날짜별로 **주별** 매출액을 계산하고 시각화하세요.\n",
    "    2. 특정 기간(예: 2024년 1월 ~ 2024년 6월) 동안의 매출 추이를 분석하고 시각화하세요.\n",
    "    3. 특정 국가에서 가장 많이 주문한 시간대를 분석하고, 이를 시각화하여 인사이트를 도출하세요."
   ]
  },
  {
   "cell_type": "code",
   "execution_count": null,
   "metadata": {},
   "outputs": [],
   "source": []
  },
  {
   "cell_type": "markdown",
   "metadata": {},
   "source": [
    "6. **추가 분석**\n",
    "    1. 고객의 **재구매율**을 분석하세요.\n",
    "        - 재구매율 = 한 고객이 여러 번 주문한 비율\n",
    "    2. 상품 카테고리별 **할인**을 적용한 판매 데이터를 사용하여 할인율이 높은 카테고리의 매출액을 분석하세요."
   ]
  },
  {
   "cell_type": "code",
   "execution_count": null,
   "metadata": {},
   "outputs": [],
   "source": []
  }
 ],
 "metadata": {
  "kernelspec": {
   "display_name": "HDWIA",
   "language": "python",
   "name": "python3"
  },
  "language_info": {
   "codemirror_mode": {
    "name": "ipython",
    "version": 3
   },
   "file_extension": ".py",
   "mimetype": "text/x-python",
   "name": "python",
   "nbconvert_exporter": "python",
   "pygments_lexer": "ipython3",
   "version": "3.12.12"
  }
 },
 "nbformat": 4,
 "nbformat_minor": 2
}
