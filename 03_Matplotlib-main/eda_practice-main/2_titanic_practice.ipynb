{
 "cells": [
  {
   "cell_type": "markdown",
   "metadata": {},
   "source": [
    "##### [실습] titanic 승객 데이터 활용"
   ]
  },
  {
   "cell_type": "markdown",
   "metadata": {},
   "source": [
    "**컬럼 설명** \n",
    "- PassengerId - 승객 고유번호\n",
    "- Survived - 생존유무(target 값) (0 = 사망, 1 = 생존)\n",
    "- Pclass - 티켓 클래스 (1 = 1st, 2 = 2nd, 3 = 3rd)\n",
    "- Name - 탑승객 성명\n",
    "- Sex - 성별 (male: 남성, female: 여성)\n",
    "- Age - 나이(세)\n",
    "- SibSp - 함께 탑승한 형제자매, 배우자 수 총합\n",
    "- Parch - 함께 탑승한 부모, 자녀 수 총합\n",
    "- Ticket - 티켓 넘버\n",
    "- Fare - 탑승 요금\n",
    "- Cabin - 객실 넘버\n",
    "- Embarked - 탑승 항구 (C: Cherbourg, Q: Queenstown, S: Southampton)"
   ]
  },
  {
   "cell_type": "code",
   "execution_count": 6,
   "metadata": {},
   "outputs": [
    {
     "name": "stdout",
     "output_type": "stream",
     "text": [
      "(891, 12)\n",
      "Index(['PassengerId', 'Survived', 'Pclass', 'Name', 'Sex', 'Age', 'SibSp',\n",
      "       'Parch', 'Ticket', 'Fare', 'Cabin', 'Embarked'],\n",
      "      dtype='object')\n"
     ]
    }
   ],
   "source": [
    "# titanic.csv 파일 로드\n",
    "# titanic 데이터셋의 메타 데이터 확인\n",
    "import pandas as pd\n",
    "\n",
    "titanic = pd.read_csv('data/titanic.csv')\n",
    "\n",
    "print(titanic.shape)       # 행, 열의 개수\n",
    "print(titanic.columns)     # 컬럼명 리스트\n"
   ]
  },
  {
   "cell_type": "markdown",
   "metadata": {},
   "source": [
    "- 기초문제"
   ]
  },
  {
   "cell_type": "code",
   "execution_count": 8,
   "metadata": {},
   "outputs": [
    {
     "name": "stdout",
     "output_type": "stream",
     "text": [
      "사망자 수 (0): 549\n",
      "생존자 수 (1): 342\n"
     ]
    }
   ],
   "source": [
    "# 1. 전체 승객 중 생존자의 수와 사망자의 수를 구하여 출력\n",
    "\n",
    "import pandas as pd\n",
    "\n",
    "# 파일 로드\n",
    "titanic = pd.read_csv('data/titanic.csv')\n",
    "\n",
    "# 생존자(1), 사망자(0) 수 세기\n",
    "survival_counts = titanic['Survived'].value_counts()\n",
    "\n",
    "# 출력\n",
    "print('사망자 수 (0):', survival_counts[0])\n",
    "print('생존자 수 (1):', survival_counts[1])\n"
   ]
  },
  {
   "cell_type": "code",
   "execution_count": 11,
   "metadata": {},
   "outputs": [
    {
     "name": "stdout",
     "output_type": "stream",
     "text": [
      "승객 나이의 평균: 29.7\n"
     ]
    }
   ],
   "source": [
    "# 2. 승객 나이의 평균 출력\n",
    "\n",
    "import pandas as pd\n",
    "\n",
    "# titanic.csv 불러오기\n",
    "titanic = pd.read_csv('data/titanic.csv')\n",
    "\n",
    "# 나이의 평균 계산\n",
    "average_age = titanic['Age'].mean()\n",
    "\n",
    "print('승객 나이의 평균: {:.1f}'.format(average_age))\n",
    "\n"
   ]
  },
  {
   "cell_type": "code",
   "execution_count": 12,
   "metadata": {},
   "outputs": [
    {
     "name": "stdout",
     "output_type": "stream",
     "text": [
      "1등급 승객 중 운임이 가장 높은 승객의 이름: Ward, Miss. Anna\n"
     ]
    }
   ],
   "source": [
    "# 3. 1등급 승객 중 운임이 가장 높은 승객의 이름 출력\n",
    "\n",
    "\n",
    "# 1등급 승객 중에서 운임이 가장 높은 행 찾기\n",
    "first_class = titanic[titanic['Pclass'] == 1]\n",
    "max_fare_row = first_class.loc[first_class['Fare'].idxmax()]\n",
    "\n",
    "# 승객 이름 출력\n",
    "print('1등급 승객 중 운임이 가장 높은 승객의 이름:', max_fare_row['Name'])\n"
   ]
  },
  {
   "cell_type": "code",
   "execution_count": 13,
   "metadata": {},
   "outputs": [
    {
     "name": "stdout",
     "output_type": "stream",
     "text": [
      "여성 승객의 수: 314\n"
     ]
    }
   ],
   "source": [
    "# 4. 여성 승객의 수를 구하여 출력\n",
    "\n",
    "# 여성 승객만 필터한 뒤 개수 세기\n",
    "num_females = titanic[titanic['Sex'] == 'female'].shape[0]\n",
    "\n",
    "print('여성 승객의 수:', num_females)"
   ]
  },
  {
   "cell_type": "code",
   "execution_count": 14,
   "metadata": {},
   "outputs": [
    {
     "name": "stdout",
     "output_type": "stream",
     "text": [
      "                                                  Name      Fare\n",
      "1    Cumings, Mrs. John Bradley (Florence Briggs Th...   71.2833\n",
      "3         Futrelle, Mrs. Jacques Heath (Lily May Peel)   53.1000\n",
      "6                              McCarthy, Mr. Timothy J   51.8625\n",
      "27                      Fortune, Mr. Charles Alexander  263.0000\n",
      "31      Spencer, Mrs. William Augustus (Marie Eugenie)  146.5208\n",
      "..                                                 ...       ...\n",
      "856         Wick, Mrs. George Dennick (Mary Hitchcock)  164.8667\n",
      "863                  Sage, Miss. Dorothy Edith \"Dolly\"   69.5500\n",
      "867               Roebling, Mr. Washington Augustus II   50.4958\n",
      "871   Beckwith, Mrs. Richard Leonard (Sallie Monypeny)   52.5542\n",
      "879      Potter, Mrs. Thomas Jr (Lily Alexenia Wilson)   83.1583\n",
      "\n",
      "[161 rows x 2 columns]\n"
     ]
    }
   ],
   "source": [
    "# 5. 운임이 50 이상인 승객의 이름과 운임 출력\n",
    "\n",
    "# 운임이 50 이상인 승객 추출\n",
    "high_fare = titanic[titanic['Fare'] >= 50]\n",
    "\n",
    "# 이름과 운임 컬럼만 출력\n",
    "print(high_fare[['Name', 'Fare']])\n"
   ]
  },
  {
   "cell_type": "code",
   "execution_count": null,
   "metadata": {},
   "outputs": [
    {
     "name": "stdout",
     "output_type": "stream",
     "text": [
      "나이 18세 미만 승객들의 생존율: 54.0%\n"
     ]
    }
   ],
   "source": [
    "# 6. 나이가 18세 미만인 승객들의 생존율을 계산하여 출력\n",
    "\n",
    "under_18 = titanic[titanic['Age'] < 18]\n",
    "\n",
    "# 생존율 계산: 생존자 수 / 전체 인원 * 100\n",
    "survival_rate = (under_18['Survived'].sum() / len(under_18)) * 100\n",
    "\n",
    "print(f'나이 18세 미만 승객들의 생존율: {survival_rate:.1f}%')\n"
   ]
  },
  {
   "cell_type": "code",
   "execution_count": 20,
   "metadata": {},
   "outputs": [
    {
     "name": "stdout",
     "output_type": "stream",
     "text": [
      "2등급 객실 승객의 평균 운임: 20.66\n"
     ]
    }
   ],
   "source": [
    "# 7. 2등급 객실에 탑승한 승객의 평균 운임을 계산하여 출력\n",
    "\n",
    "# 2등급 객실 승객만 추출\n",
    "pclass2 = titanic[titanic['Pclass'] == 2]\n",
    "\n",
    "# 평균 운임 계산\n",
    "mean_fare = pclass2['Fare'].mean()\n",
    "\n",
    "print(f'2등급 객실 승객의 평균 운임: {mean_fare:.2f}')\n"
   ]
  },
  {
   "cell_type": "code",
   "execution_count": null,
   "metadata": {},
   "outputs": [],
   "source": [
    "# 10세 단위로 생존률을 시각화 해줘\n"
   ]
  },
  {
   "cell_type": "code",
   "execution_count": 21,
   "metadata": {},
   "outputs": [
    {
     "name": "stdout",
     "output_type": "stream",
     "text": [
      "                                     Name   Age\n",
      "630  Barkworth, Mr. Algernon Henry Wilson  80.0\n"
     ]
    }
   ],
   "source": [
    "# 8. 승객 중 나이가 가장 많은 사람의 나이와 이름을 출력\n",
    "\n",
    "\n",
    "# 나이가 가장 많은 값 찾기\n",
    "max_age = titanic['Age'].max()\n",
    "\n",
    "# 나이가 가장 많은 사람(들) 정보 추출\n",
    "oldest = titanic[titanic['Age'] == max_age]\n",
    "\n",
    "# 이름과 나이 출력\n",
    "print(oldest[['Name', 'Age']])\n"
   ]
  },
  {
   "cell_type": "code",
   "execution_count": 27,
   "metadata": {},
   "outputs": [
    {
     "name": "stdout",
     "output_type": "stream",
     "text": [
      "644\n"
     ]
    }
   ],
   "source": [
    "# 9. S 항구에서 탑승한 승객의 수를 출력\n",
    "\n",
    "em_s= titanic[titanic['Embarked'] == 'S'].shape[0]\n",
    "\n",
    "print(em_s)"
   ]
  },
  {
   "cell_type": "code",
   "execution_count": 37,
   "metadata": {},
   "outputs": [
    {
     "name": "stdout",
     "output_type": "stream",
     "text": [
      "47\n"
     ]
    }
   ],
   "source": [
    "# 10. 3등급 객실에 탑승한 남성 승객 중 생존자의 수를 출력\n",
    "survival_3m = titanic[(titanic['Pclass']== 3) & (titanic['Sex'] == 'male') & (titanic['Survived'] == 1)]\n",
    "print(len(survival_3m))\n"
   ]
  },
  {
   "cell_type": "markdown",
   "metadata": {},
   "source": [
    "- 고급문제"
   ]
  },
  {
   "cell_type": "code",
   "execution_count": 38,
   "metadata": {},
   "outputs": [
    {
     "name": "stdout",
     "output_type": "stream",
     "text": [
      "Survived  Pclass\n",
      "0         1         43.695312\n",
      "          2         33.544444\n",
      "          3         26.555556\n",
      "1         1         35.368197\n",
      "          2         25.901566\n",
      "          3         20.646118\n",
      "Name: Age, dtype: float64\n"
     ]
    }
   ],
   "source": [
    "# 1. 생존자(Survived)와 그렇지 않은 사람들의 `Pclass`(객실 등급)별 평균 나이를 각각 출력\n",
    "# 생존여부(Survived), Pclass별 평균나이\n",
    "mean_ages = titanic.groupby(['Survived', 'Pclass'])['Age'].mean()\n",
    "print(mean_ages)\n"
   ]
  },
  {
   "cell_type": "code",
   "execution_count": 40,
   "metadata": {},
   "outputs": [
    {
     "name": "stdout",
     "output_type": "stream",
     "text": [
      "Collecting seaborn\n",
      "  Downloading seaborn-0.13.2-py3-none-any.whl.metadata (5.4 kB)\n",
      "Requirement already satisfied: numpy!=1.24.0,>=1.20 in c:\\programdata\\miniforge3\\envs\\hdwia\\lib\\site-packages (from seaborn) (2.3.3)\n",
      "Requirement already satisfied: pandas>=1.2 in c:\\programdata\\miniforge3\\envs\\hdwia\\lib\\site-packages (from seaborn) (2.3.3)\n",
      "Requirement already satisfied: matplotlib!=3.6.1,>=3.4 in c:\\programdata\\miniforge3\\envs\\hdwia\\lib\\site-packages (from seaborn) (3.10.7)\n",
      "Requirement already satisfied: contourpy>=1.0.1 in c:\\programdata\\miniforge3\\envs\\hdwia\\lib\\site-packages (from matplotlib!=3.6.1,>=3.4->seaborn) (1.3.3)\n",
      "Requirement already satisfied: cycler>=0.10 in c:\\programdata\\miniforge3\\envs\\hdwia\\lib\\site-packages (from matplotlib!=3.6.1,>=3.4->seaborn) (0.12.1)\n",
      "Requirement already satisfied: fonttools>=4.22.0 in c:\\programdata\\miniforge3\\envs\\hdwia\\lib\\site-packages (from matplotlib!=3.6.1,>=3.4->seaborn) (4.60.1)\n",
      "Requirement already satisfied: kiwisolver>=1.3.1 in c:\\programdata\\miniforge3\\envs\\hdwia\\lib\\site-packages (from matplotlib!=3.6.1,>=3.4->seaborn) (1.4.9)\n",
      "Requirement already satisfied: packaging>=20.0 in c:\\programdata\\miniforge3\\envs\\hdwia\\lib\\site-packages (from matplotlib!=3.6.1,>=3.4->seaborn) (25.0)\n",
      "Requirement already satisfied: pillow>=8 in c:\\programdata\\miniforge3\\envs\\hdwia\\lib\\site-packages (from matplotlib!=3.6.1,>=3.4->seaborn) (12.0.0)\n",
      "Requirement already satisfied: pyparsing>=3 in c:\\programdata\\miniforge3\\envs\\hdwia\\lib\\site-packages (from matplotlib!=3.6.1,>=3.4->seaborn) (3.2.5)\n",
      "Requirement already satisfied: python-dateutil>=2.7 in c:\\programdata\\miniforge3\\envs\\hdwia\\lib\\site-packages (from matplotlib!=3.6.1,>=3.4->seaborn) (2.9.0.post0)\n",
      "Requirement already satisfied: pytz>=2020.1 in c:\\programdata\\miniforge3\\envs\\hdwia\\lib\\site-packages (from pandas>=1.2->seaborn) (2025.2)\n",
      "Requirement already satisfied: tzdata>=2022.7 in c:\\programdata\\miniforge3\\envs\\hdwia\\lib\\site-packages (from pandas>=1.2->seaborn) (2025.2)\n",
      "Requirement already satisfied: six>=1.5 in c:\\programdata\\miniforge3\\envs\\hdwia\\lib\\site-packages (from python-dateutil>=2.7->matplotlib!=3.6.1,>=3.4->seaborn) (1.17.0)\n",
      "Downloading seaborn-0.13.2-py3-none-any.whl (294 kB)\n",
      "Installing collected packages: seaborn\n",
      "Successfully installed seaborn-0.13.2\n",
      "Note: you may need to restart the kernel to use updated packages.\n"
     ]
    }
   ],
   "source": [
    "%pip install seaborn\n"
   ]
  },
  {
   "cell_type": "code",
   "execution_count": 44,
   "metadata": {},
   "outputs": [
    {
     "data": {
      "image/png": "[encoded data removed]",
      "text/plain": [
       "<Figure size 800x500 with 1 Axes>"
      ]
     },
     "metadata": {},
     "output_type": "display_data"
    }
   ],
   "source": [
    "import matplotlib.pyplot as plt\n",
    "import seaborn as sns\n",
    "\n",
    "# 한글 폰트 (Windows 기준)\n",
    "plt.rc('font', family='Malgun Gothic')\n",
    "plt.rcParams['axes.unicode_minus'] = False\n",
    "\n",
    "# 데이터 가공\n",
    "mean_ages = titanic.groupby(['Survived', 'Pclass'])['Age'].mean().reset_index()\n",
    "mean_ages['Survived'] = mean_ages['Survived'].map({0: '비생존', 1: '생존'})\n",
    "\n",
    "plt.figure(figsize=(8, 5))\n",
    "ax = sns.barplot(data=mean_ages, x='Pclass', y='Age', hue='Survived')\n",
    "\n",
    "plt.title('Pclass별 생존여부에 따른 평균 나이')\n",
    "plt.xlabel('객실 등급(Pclass)')\n",
    "plt.ylabel('평균 나이')\n",
    "plt.legend(title='생존여부')\n",
    "\n",
    "# ---- 막대 위에 숫자 표시 코드 추가 ---- #\n",
    "for p in ax.patches:\n",
    "    height = p.get_height()\n",
    "    if height > 0:  # 0 이상인 patch(실제로 데이터 있는 부분)만 표시\n",
    "        ax.annotate(f'{height:.1f}',\n",
    "                    (p.get_x() + p.get_width() / 2, height),\n",
    "                    ha='center', va='bottom', fontsize=11, color='black')\n",
    "\n",
    "\n",
    "plt.show()\n"
   ]
  },
  {
   "cell_type": "code",
   "execution_count": 35,
   "metadata": {},
   "outputs": [],
   "source": [
    "# 2. `SibSp`(형제/배우자 수)가 3 이상인 승객들 중에서, `Fare`(운임) 상위 5명의 이름과 나이를 출력"
   ]
  },
  {
   "cell_type": "code",
   "execution_count": 36,
   "metadata": {},
   "outputs": [],
   "source": [
    "# 3. 승객 중에서 `Age` 값이 결측치(NaN)인 사람들의 `Embarked`(탑승 항구)별 분포를 출력"
   ]
  },
  {
   "cell_type": "code",
   "execution_count": 37,
   "metadata": {},
   "outputs": [],
   "source": [
    "# 4. 나이가 16세 미만이고, 혼자 탑승한(`SibSp == 0` and `Parch == 0`) 승객의 이름과 성별, 생존 여부를 출력"
   ]
  },
  {
   "cell_type": "code",
   "execution_count": 38,
   "metadata": {},
   "outputs": [],
   "source": [
    "# 5. 1등급(Pclass == 1) 객실에 탑승한 승객들 중에서, 운임(Fare)이 평균보다 높은 사람들의 이름과 나이, 운임을 출력"
   ]
  },
  {
   "cell_type": "code",
   "execution_count": 39,
   "metadata": {},
   "outputs": [],
   "source": [
    "# 6. 나이(Age), 객실 등급(Pclass), 운임(Fare) 값에 결측치가 없는 승객들만 대상으로, 각 등급별 평균 운임과 중앙값 운임을 출력"
   ]
  },
  {
   "cell_type": "code",
   "execution_count": 40,
   "metadata": {},
   "outputs": [],
   "source": [
    "# 7. 승객들의 `Embarked` 별 평균 나이를 계산하고, 가장 많은 승객이 탑승한 항구를 기준으로 생존율을 계산하여 출력"
   ]
  },
  {
   "cell_type": "code",
   "execution_count": 41,
   "metadata": {},
   "outputs": [],
   "source": [
    "# 8. 승객 중에서 여성(`Sex == 'female'`)이면서 30세 이상인 사람들의 생존율을 계산하여 출력"
   ]
  },
  {
   "cell_type": "code",
   "execution_count": 42,
   "metadata": {},
   "outputs": [],
   "source": [
    "# 9. 동반한 형제 또는 배우자 수(`SibSp`)와 부모 또는 자녀 수(`Parch`)의 합이 3 이상인 승객들만을 대상으로, 그들의 생존율을 계산하여 출력"
   ]
  },
  {
   "cell_type": "code",
   "execution_count": 43,
   "metadata": {},
   "outputs": [],
   "source": [
    "# 10. `Cabin`(객실 번호) 정보가 있는 승객들만을 대상으로, 그들의 생존율을 객실 등급별로 구분하여 계산하여 출력"
   ]
  }
 ],
 "metadata": {
  "kernelspec": {
   "display_name": "HDWIA",
   "language": "python",
   "name": "python3"
  },
  "language_info": {
   "codemirror_mode": {
    "name": "ipython",
    "version": 3
   },
   "file_extension": ".py",
   "mimetype": "text/x-python",
   "name": "python",
   "nbconvert_exporter": "python",
   "pygments_lexer": "ipython3",
   "version": "3.12.12"
  }
 },
 "nbformat": 4,
 "nbformat_minor": 2
}
