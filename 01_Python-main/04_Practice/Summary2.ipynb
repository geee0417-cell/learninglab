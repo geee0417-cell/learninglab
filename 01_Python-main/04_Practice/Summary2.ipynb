{
 "cells": [
  {
   "cell_type": "code",
   "execution_count": 1,
   "id": "83753b64",
   "metadata": {},
   "outputs": [
    {
     "name": "stdout",
     "output_type": "stream",
     "text": [
      "적당히 잘하셨습니다.\n"
     ]
    }
   ],
   "source": [
    "#조건문\n",
    "\n",
    "#if [조건식];\n",
    "#  [실행할코드]\n",
    "#else:\n",
    "#[조건들에서 전부 false 나왔을때 실행될 코드]\n",
    "\n",
    "\n",
    "score = 84\n",
    "\n",
    "if score > 85:\n",
    "    print(\"잘하셨습니다.\")\n",
    "elif score > 80:\n",
    "    print(\"적당히 잘하셨습니다.\")\n",
    "else :\n",
    "    print(\"못하셨습니다.\")"
   ]
  },
  {
   "cell_type": "code",
   "execution_count": null,
   "id": "ba1750aa",
   "metadata": {},
   "outputs": [],
   "source": [
    "%pip install notebook"
   ]
  },
  {
   "cell_type": "code",
   "execution_count": 2,
   "id": "8ef05467",
   "metadata": {},
   "outputs": [
    {
     "name": "stdout",
     "output_type": "stream",
     "text": [
      "그냥그런 날입니다.\n"
     ]
    }
   ],
   "source": [
    "#match[비교할대상]:\n",
    "   # case[비교할 값]:\n",
    "      #  [실행될 코드]:\n",
    "\n",
    "day = '목요일'\n",
    "\n",
    "match day :\n",
    "    case '월요일':\n",
    "        print('월요일입니다!')\n",
    "    case '화요일':\n",
    "        print('화요일입니다!')\n",
    "    case '수요일':\n",
    "        print('수요일입니다!')\n",
    "    case _:\n",
    "        print('그냥그런 날입니다.') #언더바를 쓰면 else와 같은 기능"
   ]
  },
  {
   "cell_type": "code",
   "execution_count": 3,
   "id": "8ddf28b4",
   "metadata": {},
   "outputs": [
    {
     "name": "stdout",
     "output_type": "stream",
     "text": [
      "num은 1 입니다.\n",
      "num은 2 입니다.\n",
      "num은 3 입니다.\n",
      "num은 4 입니다.\n",
      "num은 5 입니다.\n"
     ]
    }
   ],
   "source": [
    "###for문\n",
    "#for [변수] in [반복가능한객체]:\n",
    "#    [반복시킬 문장]\n",
    "\n",
    "list = [1,2,3,4,5]\n",
    "\n",
    "for num in list:\n",
    "    print(f\"num은 {num} 입니다.\")"
   ]
  }
 ],
 "metadata": {
  "kernelspec": {
   "display_name": "helloworld",
   "language": "python",
   "name": "python3"
  },
  "language_info": {
   "codemirror_mode": {
    "name": "ipython",
    "version": 3
   },
   "file_extension": ".py",
   "mimetype": "text/x-python",
   "name": "python",
   "nbconvert_exporter": "python",
   "pygments_lexer": "ipython3",
   "version": "3.11.14"
  }
 },
 "nbformat": 4,
 "nbformat_minor": 5
}
