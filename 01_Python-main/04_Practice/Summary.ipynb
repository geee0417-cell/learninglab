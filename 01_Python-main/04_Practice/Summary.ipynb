{
 "cells": [
  {
   "cell_type": "code",
   "execution_count": null,
   "id": "32b0244f",
   "metadata": {},
   "outputs": [],
   "source": [
    "##자료구조\n",
    "###리스트\n",
    "특징 \n",
    "- 순서가 있는 데이터 구조"
   ]
  },
  {
   "cell_type": "code",
   "execution_count": null,
   "id": "4054b530",
   "metadata": {},
   "outputs": [
    {
     "name": "stdout",
     "output_type": "stream",
     "text": [
      "[1, 2, 3, 4, 'hello']\n"
     ]
    }
   ],
   "source": [
    "my_list = [1,2,3,4,'hello'] #다른자료형 넣어도 상관 없음, 중복도 허용\n",
    "\n",
    "print(my_list)"
   ]
  },
  {
   "cell_type": "code",
   "execution_count": null,
   "id": "9570fb6c",
   "metadata": {},
   "outputs": [
    {
     "name": "stdout",
     "output_type": "stream",
     "text": [
      "[1, 2, 3, 4, 'hello', 4]\n"
     ]
    }
   ],
   "source": [
    "my_list[0] #인덱스가 있음 ,변수명 바로 옆 '대괄호' 의미는 인덱스를 의미함\n",
    "\n",
    "my_list.append(4) #메소드 합수 '.'뒤에 오는거는 메소드명!\n",
    "\n",
    "print(my_list)"
   ]
  },
  {
   "cell_type": "code",
   "execution_count": null,
   "id": "5bc33384",
   "metadata": {},
   "outputs": [
    {
     "name": "stdout",
     "output_type": "stream",
     "text": [
      "(1, 2, 3, 4, 4)\n"
     ]
    }
   ],
   "source": [
    "###튜플 - 순서가 있음 = index가 있다는 뜻 , 불변적 = 생성한다음 수정 X\n",
    "tuple = (1,2,3,4,4) #튜플은 '소괄호', 중복허용\n",
    "print(tuple)"
   ]
  },
  {
   "cell_type": "code",
   "execution_count": null,
   "id": "49879c5b",
   "metadata": {},
   "outputs": [
    {
     "data": {
      "text/plain": [
       "4"
      ]
     },
     "execution_count": 9,
     "metadata": {},
     "output_type": "execute_result"
    }
   ],
   "source": [
    "tuple = (1,2,3,4,4,4)\n",
    "tuple[3] \n",
    "#tuple[3] = '1' <- 값바꾸기안됨."
   ]
  },
  {
   "cell_type": "code",
   "execution_count": 20,
   "id": "8cc2822f",
   "metadata": {},
   "outputs": [
    {
     "name": "stdout",
     "output_type": "stream",
     "text": [
      "정지안\n",
      "서울\n",
      "{'name': '정지안', 'age': 20, 'city': '서울', 'job': 'teacher'}\n"
     ]
    }
   ],
   "source": [
    "#딕셔너리 (Dictionary)\n",
    "#Key - Value 쌍\n",
    "dict = {\n",
    "    'name':'정지안',\n",
    "    'age':20 ,\n",
    "    'city':'창원'\n",
    "}\n",
    "\n",
    "print(dict['name'])\n",
    "dict['city'] = '서울' #key값은 중복이 안된다.\n",
    "print(dict['city'])\n",
    "\n",
    "dict['job'] ='teacher'\n",
    "print(dict)"
   ]
  },
  {
   "cell_type": "code",
   "execution_count": 22,
   "id": "ce2fedb5",
   "metadata": {},
   "outputs": [
    {
     "name": "stdout",
     "output_type": "stream",
     "text": [
      "[{'name': '정지안', 'age': 20, 'city': '서울', 'job': 'teacher'}, {'name': '정지안2', 'age': 202, 'city': {'home : 창원11', \"job :'창원22\"}}, {'name': '정지안3', 'age': 203, 'city': '창원3'}]\n"
     ]
    }
   ],
   "source": [
    "dict2 = {\n",
    "    'name':'정지안2',\n",
    "    'age':202 ,\n",
    "    'city':{\n",
    "            \"home : 창원11\",\n",
    "            \"job :'창원22\"\n",
    "    }\n",
    "}\n",
    "\n",
    "dict3 = {\n",
    "    'name':'정지안3',\n",
    "    'age':203 ,\n",
    "    'city':'창원3'\n",
    "}\n",
    "\n",
    "dict_list = [dict,dict2,dict3]\n",
    "\n",
    "print(dict_list)"
   ]
  },
  {
   "cell_type": "code",
   "execution_count": null,
   "id": "bb2393c1",
   "metadata": {},
   "outputs": [
    {
     "name": "stdout",
     "output_type": "stream",
     "text": [
      "{1, 2, 3, 4, 5}\n"
     ]
    }
   ],
   "source": [
    "##Set - 중복불허용, 순서가 없음\n",
    "\n",
    "set = {1,2,3,4,5,1} #'중괄호'사용\n",
    "print(set)\n",
    "\n",
    "\n"
   ]
  }
 ],
 "metadata": {
  "kernelspec": {
   "display_name": "HDWIA",
   "language": "python",
   "name": "python3"
  },
  "language_info": {
   "codemirror_mode": {
    "name": "ipython",
    "version": 3
   },
   "file_extension": ".py",
   "mimetype": "text/x-python",
   "name": "python",
   "nbconvert_exporter": "python",
   "pygments_lexer": "ipython3",
   "version": "3.12.12"
  }
 },
 "nbformat": 4,
 "nbformat_minor": 5
}
